{
 "cells": [
  {
   "cell_type": "markdown",
   "id": "341789ca",
   "metadata": {},
   "source": [
    "# OData Measurement and Test Result Queries with Digital Thread Services\n",
    "\n",
    "This notebook demonstrates how to use OData queries to retrieve and analyze test measurements, results, and conditions from the NI Measurement Data Store. It shows hierarchical navigation through TestResults → Steps → Measurements.\n",
    "\n",
    "## Prerequisites\n",
    "\n",
    "**⚠️ Important:** Run the `publish_sample_data.ipynb` notebook first to create the sample test data that this notebook queries.\n",
    "\n",
    "- NI Measurement Data Store running and accessible\n",
    "- Python environment with the `ni.datastore` package\n",
    "- Sample test data created by running `publish_sample_data.ipynb`"
   ]
  },
  {
   "cell_type": "markdown",
   "id": "5556fa1e",
   "metadata": {},
   "source": [
    "## Setup\n",
    "\n",
    "Import the required libraries and create both metadata and data store clients."
   ]
  },
  {
   "cell_type": "code",
   "execution_count": null,
   "id": "8c34ac09",
   "metadata": {},
   "outputs": [],
   "source": [
    "from ni.datastore.data import DataStoreClient\n",
    "\n",
    "data_store_client = DataStoreClient()"
   ]
  },
  {
   "cell_type": "markdown",
   "id": "87c65e48",
   "metadata": {},
   "source": [
    "## Query Measurements\n",
    "\n",
    "Measurements are the individual data points collected during test steps.\n",
    "\n",
    "**Additional measurement query examples:**\n",
    "\n",
    "```python\n",
    "# Filter by measurement name\n",
    "voltage_measurements = data_store_client.query_measurements(\"$filter=contains(Name,'Voltage')\")\n",
    "```"
   ]
  },
  {
   "cell_type": "code",
   "execution_count": null,
   "id": "e981dfd0",
   "metadata": {},
   "outputs": [],
   "source": [
    "from ni.datastore.data import Outcome\n",
    "from ni.datastore.metadata import MetadataStoreClient\n",
    "\n",
    "# Find failed measurements by checking outcome\n",
    "print(\"\\n1. Failed Measurements:\")\n",
    "failed_measurements = data_store_client.query_measurements(\"$filter=Outcome eq 'Failed'\")\n",
    "for measurement in failed_measurements:\n",
    "    measurement_name = measurement.measurement_name or \"Unnamed Measurement\"\n",
    "    if measurement.start_date_time:\n",
    "        print(f\"  ❌ {measurement_name} - Failed at {measurement.start_date_time.strftime('%Y-%m-%d %H:%M:%S')}\")\n",
    "    else:\n",
    "        print(f\"  ❌ {measurement_name} - Failed at Unknown Time\")\n",
    "\n",
    "if not failed_measurements:\n",
    "    print(\"  ✅ No failed measurements found!\")\n",
    "\n",
    "if len(failed_measurements) > 15:\n",
    "    print(f\"  ... and {len(failed_measurements) - 15} more measurements\")\n",
    "\n",
    "def print_measurement_with_outcome(measurement) -> str:\n",
    "    name = measurement.measurement_name or \"Unnamed Measurement\"\n",
    "    passed = measurement.outcome == Outcome.OUTCOME_PASSED\n",
    "    failed = measurement.outcome == Outcome.OUTCOME_FAILED\n",
    "    return f\"{name} - {'✅ (Passed)' if passed else '❌ (Failed)' if failed else '❓ (Unknown)'}\"\n",
    "\n",
    "print(\"\\n=== Voltage Measurements ===\")\n",
    "voltage_measurements = data_store_client.query_measurements(\"$filter=contains(Name,'Voltage')\")\n",
    "for measurement in voltage_measurements:\n",
    "    print(f\"  ⚡ {print_measurement_with_outcome(measurement)}\")\n",
    "\n",
    "print(\"\\n=== Current Measurements ===\")\n",
    "current_measurements = data_store_client.query_measurements(\"$filter=contains(Name,'Current')\")\n",
    "for measurement in current_measurements:\n",
    "    print(f\"  🔌 {print_measurement_with_outcome(measurement)}\")\n",
    "\n",
    "print(\"\\n=== Failed Measurements by Operator Alex Smith ===\")\n",
    "metadata_store_client = MetadataStoreClient()\n",
    "for measurement in failed_measurements:\n",
    "    if measurement.test_result_id:\n",
    "        test_result = data_store_client.get_test_result(measurement.test_result_id)\n",
    "        if test_result.operator_id:\n",
    "            operator = metadata_store_client.get_operator(test_result.operator_id)\n",
    "            operator_name = operator.operator_name\n",
    "            if operator_name == \"Alex Smith\":\n",
    "                print(f\"  📋 {print_measurement_with_outcome(measurement)} - Operator: {operator_name}\")"
   ]
  },
  {
   "cell_type": "markdown",
   "id": "92115861",
   "metadata": {},
   "source": [
    "## Query Steps\n",
    "\n",
    "Steps are the individual test phases within a test result. Each step can contain multiple measurements.\n",
    "\n",
    "**Additional step query examples:**\n",
    "\n",
    "```python\n",
    "# Filter by step name\n",
    "initialization_steps = data_store_client.query_steps(\"$filter=contains(Name,'Initialize')\")\n",
    "measurement_steps = data_store_client.query_steps(\"$filter=contains(Name,'Measure')\")\n",
    "```"
   ]
  },
  {
   "cell_type": "code",
   "execution_count": null,
   "id": "8fa79b50",
   "metadata": {},
   "outputs": [],
   "source": [
    "# Query all steps\n",
    "all_steps = list(data_store_client.query_steps(\"\"))\n",
    "\n",
    "print(f\"Found {len(all_steps)} steps total\")\n",
    "print(\"\\nStep summary:\")\n",
    "for step in all_steps[:10]:  # Show first 10 steps\n",
    "    step_name = step.step_name or \"Unnamed Step\"\n",
    "    # Steps don't have a status field, so we'll skip showing status\n",
    "    print(f\"  🔧 {step_name}\")\n",
    "\n",
    "if len(all_steps) > 10:\n",
    "    print(f\"  ... and {len(all_steps) - 10} more steps\")\n",
    "\n",
    "print(\"\\n=== Steps containing 'Voltage' ===\")\n",
    "voltage_steps = list(data_store_client.query_steps(\"$filter=contains(Name,'Voltage')\"))\n",
    "for step in voltage_steps:\n",
    "    step_name = step.step_name or \"Unnamed Step\"\n",
    "    # Steps don't have a status field, so we'll skip showing status\n",
    "    print(f\"  🔧 {step_name}\")"
   ]
  },
  {
   "cell_type": "markdown",
   "id": "02cd81bc",
   "metadata": {},
   "source": [
    "## Query Published Conditions\n",
    "\n",
    "Published conditions represent test conditions or environmental factors during testing.\n",
    "\n",
    "**Additional condition query examples:**\n",
    "\n",
    "```python\n",
    "# Filter by condition name\n",
    "temperature_conditions = data_store_client.query_conditions(\"$filter=contains(Name,'Temperature')\")\n",
    "humidity_conditions = data_store_client.query_conditions(\"$filter=contains(Name,'Humidity')\")\n",
    "```"
   ]
  },
  {
   "cell_type": "code",
   "execution_count": null,
   "id": "edfc2fce",
   "metadata": {},
   "outputs": [],
   "source": [
    "# Query all published conditions\n",
    "# Query conditions with name including 'Temperature' or 'Pressure'\n",
    "temp_and_pressure_conditions = list(data_store_client.query_conditions(\"$filter=contains(Name,'Temperature') or contains(Name,'Pressure')\"))\n",
    "\n",
    "# Get unique condition names and sort them\n",
    "unique_condition_names = sorted(set(\n",
    "    condition.condition_name if hasattr(condition, 'condition_name') else \"Unnamed Condition\"\n",
    "    for condition in temp_and_pressure_conditions\n",
    "))\n",
    "\n",
    "if temp_and_pressure_conditions:\n",
    "    print(\"\\nConditions related to temp and pressure:\")\n",
    "    for condition_name in unique_condition_names[:10]:  # Show first 10 conditions\n",
    "        name = condition_name\n",
    "        print(f\"  🌡️ {name}\")\n",
    "        \n",
    "    if len(temp_and_pressure_conditions) > 10:\n",
    "        print(f\"  ... and {len(temp_and_pressure_conditions) - 10} more conditions\")\n",
    "else:\n",
    "    print(\"No published conditions found in the sample data\")"
   ]
  },
  {
   "cell_type": "markdown",
   "id": "bb446f20",
   "metadata": {},
   "source": [
    "## Close the client"
   ]
  },
  {
   "cell_type": "code",
   "execution_count": null,
   "id": "34246e8a",
   "metadata": {},
   "outputs": [],
   "source": [
    "data_store_client.close()"
   ]
  }
 ],
 "metadata": {
  "kernelspec": {
   "display_name": "ni-datastore-py3.11",
   "language": "python",
   "name": "python3"
  },
  "language_info": {
   "codemirror_mode": {
    "name": "ipython",
    "version": 3
   },
   "file_extension": ".py",
   "mimetype": "text/x-python",
   "name": "python",
   "nbconvert_exporter": "python",
   "pygments_lexer": "ipython3",
   "version": "3.11.9"
  }
 },
 "nbformat": 4,
 "nbformat_minor": 5
}
