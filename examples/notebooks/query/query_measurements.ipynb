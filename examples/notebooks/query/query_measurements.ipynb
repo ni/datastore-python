{
 "cells": [
  {
   "cell_type": "markdown",
   "id": "df1ed003",
   "metadata": {},
   "source": [
    "### Use OData to query our datastore for matching data\n",
    "\n",
    "You can use standard OData queries to filter and sort the data in the datastore.  The following example shows a couple different ways to query the datastore using OData."
   ]
  },
  {
   "cell_type": "code",
   "execution_count": 5,
   "id": "60d8ce9f",
   "metadata": {},
   "outputs": [
    {
     "name": "stdout",
     "output_type": "stream",
     "text": [
      "Matching data count:  2\n",
      "  Name:  data publish sample\n",
      "  Id:  64e8c56d-7864-45b0-ad4d-d21141b6546b\n",
      "  Timestamp:  2025-09-23 16:58:59.683455999999999999985639+00:00\n",
      "  Passed:  False\n",
      "\n",
      "  Name:  data publish sample\n",
      "  Id:  fe0f49e4-836b-4701-89a1-c1eb65422d2f\n",
      "  Timestamp:  2025-09-23 17:29:26.690687999999999999970086+00:00\n",
      "  Passed:  False\n",
      "\n"
     ]
    }
   ],
   "source": [
    "from typing import List\n",
    "from ni.datastore.client import Client\n",
    "from ni.measurements.data.v1.data_store_pb2 import PublishedMeasurement, Outcome\n",
    "from ni.protobuf.types.precision_timestamp_conversion import hightime_datetime_from_protobuf\n",
    "\n",
    "client = Client()\n",
    "\n",
    "def print_data(data: List[PublishedMeasurement]):\n",
    "    print(\"Matching data count: \", len(data))\n",
    "    for item in data:\n",
    "        print(\"  Name: \", item.measurement_name)\n",
    "        print(\"  Id: \", item.published_measurement_id)\n",
    "        print(\"  Timestamp: \", hightime_datetime_from_protobuf(item.start_date_time))\n",
    "        print(\"  Passed: \", item.outcome == Outcome.OUTCOME_PASSED)\n",
    "        print()\n",
    "\n",
    "data = client.query_measurements(odata_query=\"$filter=Name eq 'data publish sample'\")\n",
    "print_data(list(data))"
   ]
  },
  {
   "cell_type": "markdown",
   "id": "6f92bfd4",
   "metadata": {},
   "source": [
    "### Use OData to query our custom metadata\n",
    "\n",
    "You can use OData to query into our custom metadata.  The following shows how to query the custom metadata in a way that is consistent with other OData queries."
   ]
  },
  {
   "cell_type": "code",
   "execution_count": null,
   "id": "fa25178e",
   "metadata": {},
   "outputs": [
    {
     "name": "stdout",
     "output_type": "stream",
     "text": [
      "Matching data count:  0\n"
     ]
    }
   ],
   "source": [
    "# here's the odata query: look for data with associated hardware that has a cable length of 1.5\n",
    "query = \"$filter=operator/extensions/badge_number eq 'emp-128256'\"\n",
    "data = client.query_measurements(odata_query=query)\n",
    "print_data(list(data))"
   ]
  }
 ],
 "metadata": {
  "kernelspec": {
   "display_name": "ni-datastore-py3.11",
   "language": "python",
   "name": "python3"
  },
  "language_info": {
   "codemirror_mode": {
    "name": "ipython",
    "version": 3
   },
   "file_extension": ".py",
   "mimetype": "text/x-python",
   "name": "python",
   "nbconvert_exporter": "python",
   "pygments_lexer": "ipython3",
   "version": "3.11.9"
  }
 },
 "nbformat": 4,
 "nbformat_minor": 5
}
