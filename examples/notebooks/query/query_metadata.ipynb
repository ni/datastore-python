{
 "cells": [
  {
   "cell_type": "markdown",
   "id": "9c562433",
   "metadata": {},
   "source": [
    "# OData Metadata Queries with Digital Thread Services\n",
    "\n",
    "This notebook demonstrates how to use OData queries to retrieve and filter metadata from the NI Measurement Data Store. Metadata includes operators, test stations, hardware items, UUTs, software items, and aliases.\n",
    "\n",
    "## Prerequisites\n",
    "\n",
    "**⚠️ Important:** Run the `publish_sample_data.ipynb` notebook first to create the sample metadata that this notebook queries.\n",
    "\n",
    "- NI Measurement Data Store running and accessible\n",
    "- Python environment with the `ni.datastore` package\n",
    "- Sample metadata created by running `publish_sample_data.ipynb`"
   ]
  },
  {
   "cell_type": "markdown",
   "id": "59944076",
   "metadata": {},
   "source": [
    "## Setup\n",
    "\n",
    "Import the required libraries and create the metadata store client."
   ]
  },
  {
   "cell_type": "code",
   "execution_count": 1,
   "id": "34089e87",
   "metadata": {},
   "outputs": [],
   "source": [
    "from ni.datastore.metadata import MetadataStoreClient\n",
    "\n",
    "metadata_store_client = MetadataStoreClient()"
   ]
  },
  {
   "cell_type": "markdown",
   "id": "4da766ee",
   "metadata": {},
   "source": [
    "## Query Operators\n",
    "\n",
    "Uses `query_operators` to retrieve the operators. It also shows how to filter operators by name.\n",
    "\n",
    "**Additional operator query examples:**\n",
    "\n",
    "```python\n",
    "# Filter by exact operator name\n",
    "operators_exact = metadata_store_client.query_operators(\"$filter=Name eq 'Alex Smith'\")\n",
    "\n",
    "# Filter by operator role\n",
    "operators_by_role = metadata_store_client.query_operators(\"$filter=Role eq 'Test Engineer'\")\n",
    "\n",
    "# Filter by role containing text\n",
    "operators_role_contains = metadata_store_client.query_operators(\"$filter=contains(Role,'Engineer')\")\n",
    "\n",
    "# Filter by name starting with text\n",
    "operators_name_starts = metadata_store_client.query_operators(\"$filter=startswith(Name,'Alex')\")\n",
    "\n",
    "# Filter by name ending with text\n",
    "operators_name_ends = metadata_store_client.query_operators(\"$filter=endswith(Name,'Smith')\")\n",
    "\n",
    "# Filter by specific ID (using guid format)\n",
    "operators_by_id = metadata_store_client.query_operators(\"$filter=Id eq guid'12345678-1234-1234-1234-123456789abc'\")\n",
    "\n",
    "# Combine multiple conditions with 'and'\n",
    "operators_combined = metadata_store_client.query_operators(\"$filter=contains(Name,'Alex') and Role eq 'Test Engineer'\")\n",
    "```"
   ]
  },
  {
   "cell_type": "code",
   "execution_count": 2,
   "id": "1a56f513",
   "metadata": {},
   "outputs": [
    {
     "name": "stdout",
     "output_type": "stream",
     "text": [
      "All operators:\n",
      "  Alex Smith\n",
      "  Jordan Chen\n",
      "  Taylor Johnson\n",
      "\n",
      "Filtered operators (by name containing 'Smith'):\n",
      "  Alex Smith\n"
     ]
    }
   ],
   "source": [
    "# Query all operators\n",
    "operators = metadata_store_client.query_operators(\"\")\n",
    "\n",
    "print(\"All operators:\")\n",
    "for operator in operators:\n",
    "    print(f\"  {operator.operator_name}\")\n",
    "\n",
    "print(\"\\nFiltered operators (by name containing 'Smith'):\")\n",
    "filtered_operators = metadata_store_client.query_operators(\"$filter=contains(Name,'Smith')\")\n",
    "for operator in filtered_operators:\n",
    "    print(f\"  {operator.operator_name}\")"
   ]
  },
  {
   "cell_type": "markdown",
   "id": "45533432",
   "metadata": {},
   "source": [
    "## Query Test Stations\n",
    "\n",
    "Uses `query_test_stations` to retrieve the test stations. It also shows how to filter test stations by name.\n",
    "\n",
    "**Additional test station query examples:**\n",
    "\n",
    "```python\n",
    "# Filter by exact test station name\n",
    "stations_exact = metadata_store_client.query_test_stations(\"$filter=Name eq 'TestStation_A1'\")\n",
    "\n",
    "# Filter by test station name containing text\n",
    "stations_name_contains = metadata_store_client.query_test_stations(\"$filter=contains(Name,'Station')\")\n",
    "\n",
    "# Filter by name starting with text\n",
    "stations_name_starts = metadata_store_client.query_test_stations(\"$filter=startswith(Name,'Test')\")\n",
    "\n",
    "# Filter by name ending with text\n",
    "stations_name_ends = metadata_store_client.query_test_stations(\"$filter=endswith(Name,'A1')\")\n",
    "\n",
    "# Filter by specific ID (using guid format)\n",
    "stations_by_id = metadata_store_client.query_test_stations(\"$filter=Id eq guid'12345678-1234-1234-1234-123456789abc'\")\n",
    "\n",
    "# Combine multiple conditions with 'and'\n",
    "stations_combined = metadata_store_client.query_test_stations(\"$filter=contains(Name,'Test') and contains(Name,'A1')\")\n",
    "```"
   ]
  },
  {
   "cell_type": "code",
   "execution_count": 3,
   "id": "64eea755",
   "metadata": {},
   "outputs": [
    {
     "name": "stdout",
     "output_type": "stream",
     "text": [
      "All test stations:\n",
      "  TestStation_A1\n",
      "  TestStation_B2\n",
      "  TestStation_C3\n",
      "\n",
      "Filtered test stations (by name containing 'A1'):\n",
      "  TestStation_A1\n"
     ]
    }
   ],
   "source": [
    "# Query all test stations\n",
    "test_stations = metadata_store_client.query_test_stations(\"\")\n",
    "\n",
    "print(\"All test stations:\")\n",
    "for station in test_stations:\n",
    "    print(f\"  {station.test_station_name}\")\n",
    "\n",
    "print(\"\\nFiltered test stations (by name containing 'A1'):\")\n",
    "filtered_stations = metadata_store_client.query_test_stations(\"$filter=contains(Name,'A1')\")\n",
    "for station in filtered_stations:\n",
    "    print(f\"  {station.test_station_name}\")"
   ]
  },
  {
   "cell_type": "markdown",
   "id": "b687e453",
   "metadata": {},
   "source": [
    "## Query Hardware Items\n",
    "\n",
    "Uses `query_hardware_items` to retrieve the hardware items (test equipment). It also shows how to filter hardware items by various properties like manufacturer, model, and serial number.\n",
    "\n",
    "**Additional hardware item query examples:**\n",
    "\n",
    "```python\n",
    "# Filter by exact manufacturer\n",
    "hardware_by_manufacturer = metadata_store_client.query_hardware_items(\"$filter=Manufacturer eq 'NI'\")\n",
    "\n",
    "# Filter by exact model\n",
    "hardware_by_model = metadata_store_client.query_hardware_items(\"$filter=Model eq 'PXIe-4081'\")\n",
    "\n",
    "# Filter by serial number\n",
    "hardware_by_serial = metadata_store_client.query_hardware_items(\"$filter=SerialNumber eq 'DMM001'\")\n",
    "\n",
    "# Filter by manufacturer containing text\n",
    "hardware_manufacturer_contains = metadata_store_client.query_hardware_items(\"$filter=contains(Manufacturer,'NI')\")\n",
    "\n",
    "# Filter by model starting with text\n",
    "hardware_model_starts = metadata_store_client.query_hardware_items(\"$filter=startswith(Model,'PXIe')\")\n",
    "\n",
    "# Filter by part number (if available)\n",
    "hardware_by_part = metadata_store_client.query_hardware_items(\"$filter=PartNumber eq 'DMM-001-XYZ'\")\n",
    "\n",
    "# Combine multiple conditions - find NI PXIe instruments\n",
    "hardware_combined = metadata_store_client.query_hardware_items(\"$filter=Manufacturer eq 'NI' and contains(Model,'PXIe')\")\n",
    "\n",
    "# Filter by calibration due date (if available)\n",
    "# hardware_cal_due = metadata_store_client.query_hardware_items(\"$filter=CalibrationDueDate gt '2024-12-31'\")\n",
    "```"
   ]
  },
  {
   "cell_type": "code",
   "execution_count": 4,
   "id": "114fe8ac",
   "metadata": {},
   "outputs": [
    {
     "name": "stdout",
     "output_type": "stream",
     "text": [
      "All hardware items:\n",
      "  Keysight 34461A (S/N: DMM001)\n",
      "  Tektronix MSO58 (S/N: SCOPE001)\n",
      "  NI PXIe-4081 (S/N: DMM001)\n",
      "  NI PXIe-5171 (S/N: SCOPE001)\n",
      "\n",
      "Filtered hardware items (by manufacturer 'NI'):\n",
      "  NI PXIe-4081 (S/N: DMM001)\n",
      "  NI PXIe-5171 (S/N: SCOPE001)\n",
      "\n",
      "Filtered hardware items (by model containing 'PXIe'):\n",
      "  NI PXIe-4081 (S/N: DMM001)\n",
      "  NI PXIe-5171 (S/N: SCOPE001)\n"
     ]
    }
   ],
   "source": [
    "# Query all hardware items\n",
    "hardware_items = metadata_store_client.query_hardware_items(\"\")\n",
    "\n",
    "print(\"All hardware items:\")\n",
    "for item in hardware_items:\n",
    "    print(f\"  {item.manufacturer} {item.model} (S/N: {item.serial_number})\")\n",
    "\n",
    "print(\"\\nFiltered hardware items (by manufacturer 'NI'):\")\n",
    "filtered_hardware = metadata_store_client.query_hardware_items(\"$filter=Manufacturer eq 'NI'\")\n",
    "for item in filtered_hardware:\n",
    "    print(f\"  {item.manufacturer} {item.model} (S/N: {item.serial_number})\")\n",
    "\n",
    "print(\"\\nFiltered hardware items (by model containing 'PXIe'):\")\n",
    "model_filtered = metadata_store_client.query_hardware_items(\"$filter=contains(Model,'PXIe')\")\n",
    "for item in model_filtered:\n",
    "    print(f\"  {item.manufacturer} {item.model} (S/N: {item.serial_number})\")"
   ]
  },
  {
   "cell_type": "markdown",
   "id": "0c39d264",
   "metadata": {},
   "source": [
    "## Query UUTs (Units Under Test)\n",
    "\n",
    "Uses `query_uuts` to retrieve the UUT definitions (product types being tested). It also shows how to filter UUTs by name and family.\n",
    "\n",
    "**Additional UUT query examples:**\n",
    "\n",
    "```python\n",
    "# Filter by exact UUT name (model)\n",
    "uuts_by_name = metadata_store_client.query_uuts(\"$filter=Name eq 'PowerSupply v2.1'\")\n",
    "\n",
    "# Filter by UUT name containing text\n",
    "uuts_name_contains = metadata_store_client.query_uuts(\"$filter=contains(Name,'PowerSupply')\")\n",
    "\n",
    "# Filter by name starting with text\n",
    "uuts_name_starts = metadata_store_client.query_uuts(\"$filter=startswith(Name,'Audio')\")\n",
    "\n",
    "# Filter by name ending with text\n",
    "uuts_name_ends = metadata_store_client.query_uuts(\"$filter=endswith(Name,'v1.3')\")\n",
    "\n",
    "# Filter by specific ID (using guid format)\n",
    "uuts_by_id = metadata_store_client.query_uuts(\"$filter=Id eq guid'12345678-1234-1234-1234-123456789abc'\")\n",
    "\n",
    "# Combine multiple conditions\n",
    "uuts_combined = metadata_store_client.query_uuts(\"$filter=contains(Name,'Amplifier') and contains(Name,'v1')\")\n",
    "```"
   ]
  },
  {
   "cell_type": "code",
   "execution_count": 5,
   "id": "9e90d54d",
   "metadata": {},
   "outputs": [
    {
     "name": "stdout",
     "output_type": "stream",
     "text": [
      "All UUTs:\n",
      "  PowerSupply v2.1\n",
      "  Audio Amplifier v1.3\n",
      "\n",
      "Filtered UUTs (by name containing 'Power'):\n",
      "  PowerSupply v2.1\n",
      "\n",
      "Filtered UUTs (by name containing 'Amplifier'):\n",
      "  Audio Amplifier v1.3\n"
     ]
    }
   ],
   "source": [
    "# Query all UUTs\n",
    "uuts = metadata_store_client.query_uuts(\"\")\n",
    "\n",
    "print(\"All UUTs:\")\n",
    "for uut in uuts:\n",
    "    print(f\"  {uut.model_name}\")\n",
    "\n",
    "print(\"\\nFiltered UUTs (by name containing 'Power'):\")\n",
    "filtered_uuts = metadata_store_client.query_uuts(\"$filter=contains(Name,'Power')\")\n",
    "for uut in filtered_uuts:\n",
    "    print(f\"  {uut.model_name}\")\n",
    "\n",
    "print(\"\\nFiltered UUTs (by name containing 'Amplifier'):\")\n",
    "amplifier_uuts = metadata_store_client.query_uuts(\"$filter=contains(Name,'Amplifier')\")\n",
    "for uut in amplifier_uuts:\n",
    "    print(f\"  {uut.model_name}\")"
   ]
  },
  {
   "cell_type": "markdown",
   "id": "4535acbb",
   "metadata": {},
   "source": [
    "## Query UUT Instances\n",
    "\n",
    "Uses `query_uut_instances` to retrieve specific UUT instances (individual devices with serial numbers). It also shows how to filter UUT instances by serial number and UUT ID.\n",
    "\n",
    "**Additional UUT instance query examples:**\n",
    "\n",
    "```python\n",
    "# Filter by exact serial number\n",
    "instances_by_serial = metadata_store_client.query_uut_instances(\"$filter=SerialNumber eq 'PS-2024-001'\")\n",
    "\n",
    "# Filter by serial number containing text\n",
    "instances_serial_contains = metadata_store_client.query_uut_instances(\"$filter=contains(SerialNumber,'2024')\")\n",
    "\n",
    "# Filter by serial number starting with text\n",
    "instances_serial_starts = metadata_store_client.query_uut_instances(\"$filter=startswith(SerialNumber,'PS')\")\n",
    "\n",
    "# Filter by serial number ending with text\n",
    "instances_serial_ends = metadata_store_client.query_uut_instances(\"$filter=endswith(SerialNumber,'001')\")\n",
    "\n",
    "# Filter by manufacture date (if available)\n",
    "# instances_by_date = metadata_store_client.query_uut_instances(\"$filter=ManufactureDate eq '2024-01-15'\")\n",
    "\n",
    "# Filter by UUT ID (reference to parent UUT)\n",
    "# instances_by_uut = metadata_store_client.query_uut_instances(\"$filter=UutId eq guid'12345678-1234-1234-1234-123456789abc'\")\n",
    "\n",
    "# Combine multiple conditions\n",
    "instances_combined = metadata_store_client.query_uut_instances(\"$filter=contains(SerialNumber,'AMP') and contains(SerialNumber,'2024')\")\n",
    "```"
   ]
  },
  {
   "cell_type": "code",
   "execution_count": 6,
   "id": "26e75660",
   "metadata": {},
   "outputs": [
    {
     "name": "stdout",
     "output_type": "stream",
     "text": [
      "All UUT instances:\n",
      "  Serial: PS-2024-001\n",
      "  Serial: AMP-2024-042\n",
      "  Serial: PS-2024-002\n",
      "  Serial: AMP-2024-001\n",
      "\n",
      "Filtered UUT instances (by serial containing '2024'):\n",
      "  Serial: PS-2024-001\n",
      "  Serial: AMP-2024-042\n",
      "  Serial: PS-2024-002\n",
      "  Serial: AMP-2024-001\n",
      "\n",
      "Filtered UUT instances (by serial starting with 'PS'):\n",
      "  Serial: PS-2024-001\n",
      "  Serial: PS-2024-002\n"
     ]
    }
   ],
   "source": [
    "# Query all UUT instances\n",
    "uut_instances = metadata_store_client.query_uut_instances(\"\")\n",
    "\n",
    "print(\"All UUT instances:\")\n",
    "for instance in uut_instances:\n",
    "    print(f\"  Serial: {instance.serial_number}\")\n",
    "\n",
    "print(\"\\nFiltered UUT instances (by serial containing '2024'):\")\n",
    "filtered_instances = metadata_store_client.query_uut_instances(\"$filter=contains(SerialNumber,'2024')\")\n",
    "for instance in filtered_instances:\n",
    "    print(f\"  Serial: {instance.serial_number}\")\n",
    "\n",
    "print(\"\\nFiltered UUT instances (by serial starting with 'PS'):\")\n",
    "ps_instances = metadata_store_client.query_uut_instances(\"$filter=startswith(SerialNumber,'PS')\")\n",
    "for instance in ps_instances:\n",
    "    print(f\"  Serial: {instance.serial_number}\")"
   ]
  },
  {
   "cell_type": "markdown",
   "id": "b94fb9b3",
   "metadata": {},
   "source": [
    "## Query Software Items\n",
    "\n",
    "Uses `query_software_items` to retrieve software items (applications, environments, tools used in testing). It also shows how to filter software items by product and version.\n",
    "\n",
    "**Additional software item query examples:**\n",
    "\n",
    "```python\n",
    "# Filter by exact product name\n",
    "software_by_product = metadata_store_client.query_software_items(\"$filter=Product eq 'Python'\")\n",
    "\n",
    "# Filter by exact version\n",
    "software_by_version = metadata_store_client.query_software_items(\"$filter=Version eq '3.11.5'\")\n",
    "\n",
    "# Filter by product containing text\n",
    "software_product_contains = metadata_store_client.query_software_items(\"$filter=contains(Product,'Python')\")\n",
    "\n",
    "# Filter by version starting with text\n",
    "software_version_starts = metadata_store_client.query_software_items(\"$filter=startswith(Version,'3.')\")\n",
    "\n",
    "# Filter by version ending with text\n",
    "software_version_ends = metadata_store_client.query_software_items(\"$filter=endswith(Version,'.5')\")\n",
    "\n",
    "# Filter by specific ID (using guid format)\n",
    "software_by_id = metadata_store_client.query_software_items(\"$filter=Id eq guid'12345678-1234-1234-1234-123456789abc'\")\n",
    "\n",
    "# Combine multiple conditions - find Python 3.x versions\n",
    "software_combined = metadata_store_client.query_software_items(\"$filter=Product eq 'Python' and startswith(Version,'3.')\")\n",
    "```"
   ]
  },
  {
   "cell_type": "code",
   "execution_count": 7,
   "id": "de089e05",
   "metadata": {},
   "outputs": [
    {
     "name": "stdout",
     "output_type": "stream",
     "text": [
      "All software items:\n",
      "  Python 3.11.5\n",
      "  pytest 7.4.0\n",
      "  NI-DAQmx 23.3.0\n",
      "\n",
      "Filtered software items (by product 'Python'):\n",
      "  Python 3.11.5\n",
      "\n",
      "Filtered software items (by version starting with '3.'):\n",
      "  Python 3.11.5\n"
     ]
    }
   ],
   "source": [
    "# Query all software items\n",
    "software_items = metadata_store_client.query_software_items(\"\")\n",
    "\n",
    "print(\"All software items:\")\n",
    "for item in software_items:\n",
    "    print(f\"  {item.product} {item.version}\")\n",
    "\n",
    "print(\"\\nFiltered software items (by product 'Python'):\")\n",
    "filtered_software = metadata_store_client.query_software_items(\"$filter=Product eq 'Python'\")\n",
    "for item in filtered_software:\n",
    "    print(f\"  {item.product} {item.version}\")\n",
    "\n",
    "print(\"\\nFiltered software items (by version starting with '3.'):\")\n",
    "version_filtered = metadata_store_client.query_software_items(\"$filter=startswith(Version,'3.')\")\n",
    "for item in version_filtered:\n",
    "    print(f\"  {item.product} {item.version}\")"
   ]
  },
  {
   "cell_type": "markdown",
   "id": "be2b084d",
   "metadata": {},
   "source": [
    "## Query Aliases\n",
    "\n",
    "Uses `query_aliases` to retrieve aliases (human-readable references to entities). It also shows how to filter aliases by name and target type.\n",
    "\n",
    "**Additional alias query examples:**\n",
    "\n",
    "```python\n",
    "# Filter by exact alias name\n",
    "aliases_by_name = metadata_store_client.query_aliases(\"$filter=Name eq 'Operator_Smith'\")\n",
    "\n",
    "# Filter by alias name containing text\n",
    "aliases_name_contains = metadata_store_client.query_aliases(\"$filter=contains(Name,'Smith')\")\n",
    "\n",
    "# Filter by name starting with text\n",
    "aliases_name_starts = metadata_store_client.query_aliases(\"$filter=startswith(Name,'Operator')\")\n",
    "\n",
    "# Filter by name ending with text\n",
    "aliases_name_ends = metadata_store_client.query_aliases(\"$filter=endswith(Name,'_A1')\")\n",
    "\n",
    "# Filter by target type (what kind of entity the alias points to)\n",
    "aliases_by_target_type = metadata_store_client.query_aliases(\"$filter=TargetType eq DataStore.AliasTargetType'Operator'\")\n",
    "\n",
    "# Filter by target ID (specific entity the alias points to)\n",
    "# aliases_by_target_id = metadata_store_client.query_aliases(\"$filter=TargetId eq guid'12345678-1234-1234-1234-123456789abc'\")\n",
    "\n",
    "# Combine multiple conditions - find all operator aliases\n",
    "aliases_combined = metadata_store_client.query_aliases(\"$filter=contains(Name,'Operator') and TargetType eq DataStore.AliasTargetType'Operator'\")\n",
    "```"
   ]
  },
  {
   "cell_type": "code",
   "execution_count": 8,
   "id": "cd194f24",
   "metadata": {},
   "outputs": [
    {
     "name": "stdout",
     "output_type": "stream",
     "text": [
      "All aliases:\n",
      "  Operator_Smith -> 5\n",
      "  TestStation_A1 -> 8\n",
      "  UUT_PowerSupply_v2 -> 2\n",
      "  UUT_Amplifier_v1 -> 2\n",
      "  DMM_34461A -> 3\n",
      "  Scope_MSO58 -> 3\n",
      "  Python_3.11 -> 4\n",
      "  Station_A1 -> 8\n",
      "  UUT_PowerSupply_v2.1 -> 2\n",
      "\n",
      "Filtered aliases (by name containing 'Operator'):\n",
      "  Operator_Smith -> 5\n",
      "\n",
      "Filtered aliases (by name starting with 'UUT'):\n",
      "  UUT_PowerSupply_v2 -> 2\n",
      "  UUT_Amplifier_v1 -> 2\n",
      "  UUT_PowerSupply_v2.1 -> 2\n"
     ]
    }
   ],
   "source": [
    "# Query all aliases\n",
    "aliases = metadata_store_client.query_aliases(\"\")\n",
    "\n",
    "print(\"All aliases:\")\n",
    "for alias in aliases:\n",
    "    print(f\"  {alias.alias_name} -> {alias.target_type}\")\n",
    "\n",
    "print(\"\\nFiltered aliases (by name containing 'Operator'):\")\n",
    "filtered_aliases = metadata_store_client.query_aliases(\"$filter=contains(Name,'Operator')\")\n",
    "for alias in filtered_aliases:\n",
    "    print(f\"  {alias.alias_name} -> {alias.target_type}\")\n",
    "\n",
    "print(\"\\nFiltered aliases (by name starting with 'UUT'):\")\n",
    "uut_aliases = metadata_store_client.query_aliases(\"$filter=startswith(Name,'UUT')\")\n",
    "for alias in uut_aliases:\n",
    "    print(f\"  {alias.alias_name} -> {alias.target_type}\")"
   ]
  },
  {
   "cell_type": "markdown",
   "id": "09a769fb",
   "metadata": {},
   "source": [
    "## Summary\n",
    "\n",
    "This notebook demonstrated comprehensive OData querying for all major metadata entities in the Digital Thread Services:\n",
    "\n",
    "- **Operators** - Personnel and roles\n",
    "- **Test Stations** - Test equipment locations  \n",
    "- **Hardware Items** - Test instruments and equipment\n",
    "- **UUTs** - Product definitions\n",
    "- **UUT Instances** - Individual devices with serial numbers\n",
    "- **Software Items** - Software environment tracking\n",
    "- **Aliases** - Human-readable reference system\n",
    "\n",
    "### Key OData Concepts Covered:\n",
    "- **Basic queries** - Retrieving all entities\n",
    "- **Filtering** - `$filter` with exact matches, contains, starts/ends with\n",
    "- **Property names** - Using correct OData schema property names\n",
    "- **Combined conditions** - Using `and` to combine multiple filters\n",
    "- **String functions** - `contains()`, `startswith()`, `endswith()`\n",
    "\n",
    "### Next Steps:\n",
    "Check out `query_measurements.ipynb` to learn about querying test data, measurements, and conditions."
   ]
  }
 ],
 "metadata": {
  "kernelspec": {
   "display_name": "ni-datastore-py3.11",
   "language": "python",
   "name": "python3"
  },
  "language_info": {
   "codemirror_mode": {
    "name": "ipython",
    "version": 3
   },
   "file_extension": ".py",
   "mimetype": "text/x-python",
   "name": "python",
   "nbconvert_exporter": "python",
   "pygments_lexer": "ipython3",
   "version": "3.11.9"
  }
 },
 "nbformat": 4,
 "nbformat_minor": 5
}
