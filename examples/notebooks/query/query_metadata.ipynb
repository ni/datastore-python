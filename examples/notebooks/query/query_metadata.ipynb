{
 "cells": [
  {
   "cell_type": "markdown",
   "id": "9c562433",
   "metadata": {},
   "source": [
    "# OData Metadata Queries with Digital Thread Services\n",
    "\n",
    "This notebook demonstrates how to use OData queries to retrieve and filter metadata from the NI Measurement Data Store. Metadata includes operators, test stations, hardware items, UUTs, software items, and aliases.\n",
    "\n",
    "## Prerequisites\n",
    "\n",
    "**⚠️ Important:** Run the `publish_sample_data.ipynb` notebook first to create the sample metadata that this notebook queries.\n",
    "\n",
    "- NI Measurement Data Store running and accessible\n",
    "- Python environment with the `ni.datastore` package\n",
    "- Sample metadata created by running `publish_sample_data.ipynb`"
   ]
  },
  {
   "cell_type": "markdown",
   "id": "59944076",
   "metadata": {},
   "source": [
    "## Setup\n",
    "\n",
    "Import the required libraries and create the metadata store client."
   ]
  },
  {
   "cell_type": "code",
   "execution_count": null,
   "id": "34089e87",
   "metadata": {},
   "outputs": [],
   "source": [
    "from ni.datastore.metadata import MetadataStoreClient\n",
    "\n",
    "metadata_store_client = MetadataStoreClient()"
   ]
  },
  {
   "cell_type": "markdown",
   "id": "4da766ee",
   "metadata": {},
   "source": [
    "## Query Operators\n",
    "\n",
    "Uses `query_operators` to retrieve the operators. It also shows how to filter operators by name.\n",
    "\n",
    "**Additional operator query examples:**\n",
    "\n",
    "```python\n",
    "# Filter by exact operator name\n",
    "operators_exact = metadata_store_client.query_operators(\"$filter=Name eq 'Alex Smith'\")\n",
    "\n",
    "# Filter by operator role\n",
    "operators_by_role = metadata_store_client.query_operators(\"$filter=Role eq 'Test Engineer'\")\n",
    "\n",
    "# Filter by name starting with text\n",
    "operators_name_starts = metadata_store_client.query_operators(\"$filter=startswith(Name,'Alex')\")\n",
    "\n",
    "# Filter by name ending with text\n",
    "operators_name_ends = metadata_store_client.query_operators(\"$filter=endswith(Name,'Smith')\")\n",
    "\n",
    "# Combine multiple conditions with 'and'\n",
    "operators_combined = metadata_store_client.query_operators(\"$filter=contains(Name,'Alex') and Role eq 'Test Engineer'\")\n",
    "```"
   ]
  },
  {
   "cell_type": "code",
   "execution_count": null,
   "id": "1a56f513",
   "metadata": {},
   "outputs": [],
   "source": [
    "print(\"\\nFiltered operators (by name containing 'Smith'):\")\n",
    "operators_named_smith = metadata_store_client.query_operators(\"$filter=contains(Name,'Smith')\")\n",
    "for operator in operators_named_smith:\n",
    "    print(f\"  {operator.operator_name} ({operator.role})\")\n",
    "\n",
    "print(\"\\nFiltered operators (by role containing 'Test Engineer'):\")\n",
    "test_engineer_operators = metadata_store_client.query_operators(\"$filter=contains(Role,'Test Engineer')\")\n",
    "for operator in test_engineer_operators:\n",
    "    print(f\"  {operator.operator_name} ({operator.role})\")"
   ]
  },
  {
   "cell_type": "markdown",
   "id": "45533432",
   "metadata": {},
   "source": [
    "## Query Test Stations\n",
    "\n",
    "Uses `query_test_stations` to retrieve the test stations. It also shows how to filter test stations by name.\n",
    "\n",
    "**Additional test station query examples:**\n",
    "\n",
    "```python\n",
    "# Filter by name ending with text\n",
    "stations_name_ends = metadata_store_client.query_test_stations(\"$filter=endswith(Name,'A1')\")\n",
    "\n",
    "# Combine multiple conditions with 'and'\n",
    "stations_combined = metadata_store_client.query_test_stations(\"$filter=contains(Name,'Test') and contains(Name,'A1')\")\n",
    "```"
   ]
  },
  {
   "cell_type": "code",
   "execution_count": null,
   "id": "64eea755",
   "metadata": {},
   "outputs": [],
   "source": [
    "# Test stations whose name includes 'A1'\n",
    "print(\"\\nFiltered test stations (by name containing 'A1'):\")\n",
    "a1_test_stations = metadata_store_client.query_test_stations(\"$filter=contains(Name,'A1')\")\n",
    "for station in a1_test_stations:\n",
    "    print(f\"  {station.test_station_name}\")\n",
    "\n",
    "# Test stations named exactly 'TestStation_B2'\n",
    "print(\"\\nFiltered test stations (by name exactly 'TestStation_B2'):\")\n",
    "exact_b2_test_stations = metadata_store_client.query_test_stations(\"$filter=Name eq 'TestStation_B2'\")\n",
    "for station in exact_b2_test_stations:\n",
    "    print(f\"  {station.test_station_name}\")\n",
    "\n",
    "# Test stations whose name starts with 'Test'\n",
    "print(\"\\nFiltered test stations (by name starting with 'Test'):\")\n",
    "starts_test_stations = metadata_store_client.query_test_stations(\"$filter=startswith(Name,'Test')\")\n",
    "for station in starts_test_stations:\n",
    "    print(f\"  {station.test_station_name}\")"
   ]
  },
  {
   "cell_type": "markdown",
   "id": "b687e453",
   "metadata": {},
   "source": [
    "## Query Hardware Items\n",
    "\n",
    "Uses `query_hardware_items` to retrieve the hardware items (test equipment). It also shows how to filter hardware items by various properties like manufacturer, model, and serial number.\n",
    "\n",
    "**Additional hardware item query examples:**\n",
    "\n",
    "```python\n",
    "# Filter by manufacturer containing text\n",
    "hardware_manufacturer_contains = metadata_store_client.query_hardware_items(\"$filter=contains(Manufacturer,'NI')\")\n",
    "\n",
    "# Filter by model starting with text\n",
    "hardware_model_starts = metadata_store_client.query_hardware_items(\"$filter=startswith(Model,'PXIe')\")\n",
    "\n",
    "# Filter by part number (if available)\n",
    "hardware_by_part = metadata_store_client.query_hardware_items(\"$filter=PartNumber eq 'DMM-001-XYZ'\")\n",
    "\n",
    "# Combine multiple conditions - find NI PXIe instruments\n",
    "hardware_combined = metadata_store_client.query_hardware_items(\"$filter=Manufacturer eq 'NI' and contains(Model,'PXIe')\")\n",
    "```"
   ]
  },
  {
   "cell_type": "code",
   "execution_count": null,
   "id": "114fe8ac",
   "metadata": {},
   "outputs": [],
   "source": [
    "print(\"Filtered hardware items (by manufacturer 'NI'):\")\n",
    "filtered_hardware = metadata_store_client.query_hardware_items(\"$filter=Manufacturer eq 'NI'\")\n",
    "for item in filtered_hardware:\n",
    "    print(f\"  {item.manufacturer} {item.model} (S/N: {item.serial_number})\")\n",
    "\n",
    "print(\"\\nFiltered hardware items (by model containing '4081'):\")\n",
    "model_filtered = metadata_store_client.query_hardware_items(\"$filter=contains(Model,'4081')\")\n",
    "for item in model_filtered:\n",
    "    print(f\"  {item.manufacturer} {item.model} (S/N: {item.serial_number})\")\n",
    "\n",
    "print(\"\\nFiltered hardware items (by serial number containing 'SCOPE'):\")\n",
    "serial_filtered = metadata_store_client.query_hardware_items(\"$filter=contains(SerialNumber,'SCOPE')\")\n",
    "for item in serial_filtered:\n",
    "    print(f\"  {item.manufacturer} {item.model} (S/N: {item.serial_number})\")"
   ]
  },
  {
   "cell_type": "markdown",
   "id": "0c39d264",
   "metadata": {},
   "source": [
    "## Query UUTs (Units Under Test)\n",
    "\n",
    "Uses `query_uuts` to retrieve the UUT definitions (product types being tested). It also shows how to filter UUTs by name and family.\n",
    "\n",
    "**Additional UUT query examples:**\n",
    "\n",
    "```python\n",
    "# Filter by name starting with text\n",
    "uuts_name_starts = metadata_store_client.query_uuts(\"$filter=startswith(Name,'Audio')\")\n",
    "\n",
    "# Combine multiple conditions\n",
    "uuts_combined = metadata_store_client.query_uuts(\"$filter=contains(Name,'Amplifier') and contains(Name,'v1')\")\n",
    "```"
   ]
  },
  {
   "cell_type": "code",
   "execution_count": null,
   "id": "9e90d54d",
   "metadata": {},
   "outputs": [],
   "source": [
    "print(\"\\nFiltered UUTs (by name containing 'Power'):\")\n",
    "filtered_uuts = metadata_store_client.query_uuts(\"$filter=contains(Name,'Power')\")\n",
    "for uut in filtered_uuts:\n",
    "    print(f\"  {uut.model_name}\")\n",
    "\n",
    "print(\"\\nFiltered UUTs (by name ending with 'v1.3'):\")\n",
    "v13_uuts = metadata_store_client.query_uuts(\"$filter=endswith(Name,'v1.3')\")\n",
    "for uut in v13_uuts:\n",
    "    print(f\"  {uut.model_name}\")"
   ]
  },
  {
   "cell_type": "markdown",
   "id": "4535acbb",
   "metadata": {},
   "source": [
    "## Query UUT Instances\n",
    "\n",
    "Uses `query_uut_instances` to retrieve specific UUT instances (individual devices with serial numbers). It also shows how to filter UUT instances by serial number and UUT ID.\n",
    "\n",
    "**Additional UUT instance query examples:**\n",
    "\n",
    "```python\n",
    "# Filter by exact serial number\n",
    "instances_by_serial = metadata_store_client.query_uut_instances(\"$filter=SerialNumber eq 'PS-2024-001'\")\n",
    "\n",
    "# Filter by serial number ending with text\n",
    "instances_serial_ends = metadata_store_client.query_uut_instances(\"$filter=endswith(SerialNumber,'001')\")\n",
    "```"
   ]
  },
  {
   "cell_type": "code",
   "execution_count": null,
   "id": "26e75660",
   "metadata": {},
   "outputs": [],
   "source": [
    "print(\"\\nFiltered UUT instances (by serial containing '2024'):\")\n",
    "filtered_instances = metadata_store_client.query_uut_instances(\"$filter=contains(SerialNumber,'2024')\")\n",
    "for instance in filtered_instances:\n",
    "    print(f\"  Serial: {instance.serial_number}\")\n",
    "\n",
    "print(\"\\nFiltered UUT instances (by serial starting with 'PS'):\")\n",
    "ps_instances = metadata_store_client.query_uut_instances(\"$filter=startswith(SerialNumber,'PS')\")\n",
    "for instance in ps_instances:\n",
    "    print(f\"  Serial: {instance.serial_number}\")\n",
    "\n",
    "print(\"\\nCombined filter - UUT instances (serial contains 'AMP' and '2024'):\")\n",
    "instances_combined = metadata_store_client.query_uut_instances(\"$filter=contains(SerialNumber,'AMP') and contains(SerialNumber,'2024')\")\n",
    "for instance in instances_combined:\n",
    "    print(f\"  Serial: {instance.serial_number}\")"
   ]
  },
  {
   "cell_type": "markdown",
   "id": "b94fb9b3",
   "metadata": {},
   "source": [
    "## Query Software Items\n",
    "\n",
    "Uses `query_software_items` to retrieve software items (applications, environments, tools used in testing). It also shows how to filter software items by product and version.\n",
    "\n",
    "**Additional software item query examples:**\n",
    "\n",
    "```python\n",
    "# Filter by exact version\n",
    "software_by_version = metadata_store_client.query_software_items(\"$filter=Version eq '3.11.5'\")\n",
    "\n",
    "# Filter by product containing text\n",
    "software_product_contains = metadata_store_client.query_software_items(\"$filter=contains(Product,'Python')\")\n",
    "\n",
    "# Filter by version ending with text\n",
    "software_version_ends = metadata_store_client.query_software_items(\"$filter=endswith(Version,'.5')\")\n",
    "\n",
    "# Combine multiple conditions - find Python 3.x versions\n",
    "software_combined = metadata_store_client.query_software_items(\"$filter=Product eq 'Python' and startswith(Version,'3.')\")\n",
    "```"
   ]
  },
  {
   "cell_type": "code",
   "execution_count": null,
   "id": "de089e05",
   "metadata": {},
   "outputs": [],
   "source": [
    "print(\"\\nFiltered software items (by product 'Python'):\")\n",
    "filtered_software = metadata_store_client.query_software_items(\"$filter=Product eq 'Python'\")\n",
    "for item in filtered_software:\n",
    "    print(f\"  {item.product} {item.version}\")\n",
    "\n",
    "print(\"\\nFiltered software items (by version starting with '3.'):\")\n",
    "version_filtered = metadata_store_client.query_software_items(\"$filter=startswith(Version,'3.')\")\n",
    "for item in version_filtered:\n",
    "    print(f\"  {item.product} {item.version}\")"
   ]
  },
  {
   "cell_type": "markdown",
   "id": "be2b084d",
   "metadata": {},
   "source": [
    "## Query Aliases\n",
    "\n",
    "Uses `query_aliases` to retrieve aliases (human-readable references to entities). It also shows how to filter aliases by name and target type.\n",
    "\n",
    "**Additional alias query examples:**\n",
    "\n",
    "```python\n",
    "# Filter by exact alias name\n",
    "aliases_by_name = metadata_store_client.query_aliases(\"$filter=Name eq 'Operator_Smith'\")\n",
    "\n",
    "# Filter by name ending with text\n",
    "aliases_name_ends = metadata_store_client.query_aliases(\"$filter=endswith(Name,'_A1')\")\n",
    "\n",
    "# Combine multiple conditions - find all operator aliases\n",
    "aliases_combined = metadata_store_client.query_aliases(\"$filter=contains(Name,'Operator') and TargetType eq DataStore.AliasTargetType'Operator'\")\n",
    "```"
   ]
  },
  {
   "cell_type": "code",
   "execution_count": null,
   "id": "cd194f24",
   "metadata": {},
   "outputs": [],
   "source": [
    "# Helper function to translate numeric target_type to human-readable enum values\n",
    "def get_target_type_name(target_type):\n",
    "    \"\"\"Convert numeric AliasTargetType to human-readable string.\"\"\"\n",
    "    target_type_map = {\n",
    "        0: \"Unspecified\",\n",
    "        1: \"UUT Instance\", \n",
    "        2: \"UUT\",\n",
    "        3: \"Hardware Item\",\n",
    "        4: \"Software Item\",\n",
    "        5: \"Operator\",\n",
    "        6: \"Test Description\",\n",
    "        7: \"Test\",\n",
    "        8: \"Test Station\",\n",
    "        9: \"Test Adapter\"\n",
    "    }\n",
    "    return target_type_map.get(target_type, f\"Unknown ({target_type})\")\n",
    "\n",
    "print(\"\\nFiltered aliases (by name containing 'Operator'):\")\n",
    "filtered_aliases = metadata_store_client.query_aliases(\"$filter=contains(Name,'Operator')\")\n",
    "for alias in filtered_aliases:\n",
    "    target_type_name = get_target_type_name(alias.target_type)\n",
    "    print(f\"  {alias.alias_name} -> {target_type_name}\")\n",
    "\n",
    "print(\"\\nFiltered aliases (by name starting with 'UUT'):\")\n",
    "uut_aliases = metadata_store_client.query_aliases(\"$filter=startswith(Name,'UUT')\")\n",
    "for alias in uut_aliases:\n",
    "    target_type_name = get_target_type_name(alias.target_type)\n",
    "    print(f\"  {alias.alias_name} -> {target_type_name}\")\n",
    "\n",
    "print(\"\\nFiltered aliases (by target type containing 'Test'):\")\n",
    "test_station_aliases = metadata_store_client.query_aliases(\"$filter=TargetType eq DataStore.AliasTargetType'TestStation'\")\n",
    "for alias in test_station_aliases:\n",
    "    target_type_name = get_target_type_name(alias.target_type)\n",
    "    print(f\"  {alias.alias_name} -> {target_type_name}\")\n"
   ]
  }
 ],
 "metadata": {
  "kernelspec": {
   "display_name": "ni-datastore-py3.11",
   "language": "python",
   "name": "python3"
  },
  "language_info": {
   "codemirror_mode": {
    "name": "ipython",
    "version": 3
   },
   "file_extension": ".py",
   "mimetype": "text/x-python",
   "name": "python",
   "nbconvert_exporter": "python",
   "pygments_lexer": "ipython3",
   "version": "3.11.9"
  }
 },
 "nbformat": 4,
 "nbformat_minor": 5
}
