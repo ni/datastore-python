{
 "cells": [
  {
   "cell_type": "markdown",
   "id": "65b51eef",
   "metadata": {},
   "source": [
    "# OData Queries with Digital Thread Services\n",
    "\n",
    "OData is a powerful tool that can be used with the NI Measurement Data Store to access stored measurement data and metadata.\n",
    "\n",
    "This notebook demonstrates how to use OData queries with the NI Measurement Data Store. It covers basic queries and some more advanced query capabilities including filtering, expansion, ordering, and aggregation.\n",
    "\n",
    "## Prerequisites\n",
    "\n",
    "- NI Measurement Data Store running and accessible\n",
    "- Python environment with the `ni.datastore` package\n",
    "- Sample test data in the datastore\n",
    "\n"
   ]
  },
  {
   "cell_type": "markdown",
   "id": "4b16e118",
   "metadata": {},
   "source": [
    "## Basic Data Queries\n",
    "\n",
    "This section demonstrates fundamental OData query operations including:\n",
    "- Retrieving measurements\n",
    "- Filtering with some common fields\n",
    "\n",
    "### Query All Measurements\n",
    "\n",
    "This queries all measurements in the data store and prints their data type and associated step ID."
   ]
  },
  {
   "cell_type": "code",
   "execution_count": 13,
   "id": "8b76b36e",
   "metadata": {},
   "outputs": [
    {
     "name": "stdout",
     "output_type": "stream",
     "text": [
      "Measurement name: voltage_response\n",
      "  Data type: type.googleapis.com/ni.protobuf.types.DoubleAnalogWaveform\n",
      "  Step ID: cf84bbcf-5cbc-4f88-9010-8d8766517746\n",
      "Measurement name: voltage_response\n",
      "  Data type: type.googleapis.com/ni.protobuf.types.DoubleAnalogWaveform\n",
      "  Step ID: 0f467857-d71e-434e-9734-115815912604\n",
      "Measurement name: voltage_response\n",
      "  Data type: type.googleapis.com/ni.protobuf.types.DoubleAnalogWaveform\n",
      "  Step ID: 28497136-75e7-4997-8b3c-e3bc8e83321d\n",
      "Measurement name: voltage_response\n",
      "  Data type: type.googleapis.com/ni.protobuf.types.DoubleAnalogWaveform\n",
      "  Step ID: 28497136-75e7-4997-8b3c-e3bc8e83321d\n",
      "Measurement name: voltage_response\n",
      "  Data type: type.googleapis.com/ni.protobuf.types.DoubleAnalogWaveform\n",
      "  Step ID: b8a46877-dd9e-4cb1-8044-ffe825a33ee4\n",
      "Measurement name: voltage_response\n",
      "  Data type: type.googleapis.com/ni.protobuf.types.DoubleAnalogWaveform\n",
      "  Step ID: b8a46877-dd9e-4cb1-8044-ffe825a33ee4\n",
      "Measurement name: voltage_response\n",
      "  Data type: type.googleapis.com/ni.protobuf.types.DoubleAnalogWaveform\n",
      "  Step ID: 0f467857-d71e-434e-9734-115815912604\n",
      "Measurement name: voltage_response\n",
      "  Data type: type.googleapis.com/ni.protobuf.types.DoubleAnalogWaveform\n",
      "  Step ID: cf84bbcf-5cbc-4f88-9010-8d8766517746\n",
      "Measurement name: voltage_response\n",
      "  Data type: type.googleapis.com/ni.protobuf.types.DoubleAnalogWaveform\n",
      "  Step ID: cf84bbcf-5cbc-4f88-9010-8d8766517746\n",
      "Measurement name: voltage_response\n",
      "  Data type: type.googleapis.com/ni.protobuf.types.DoubleAnalogWaveform\n",
      "  Step ID: cf84bbcf-5cbc-4f88-9010-8d8766517746\n",
      "Measurement name: voltage_response\n",
      "  Data type: type.googleapis.com/ni.protobuf.types.DoubleAnalogWaveform\n",
      "  Step ID: b8a46877-dd9e-4cb1-8044-ffe825a33ee4\n",
      "Measurement name: voltage_response\n",
      "  Data type: type.googleapis.com/ni.protobuf.types.DoubleAnalogWaveform\n",
      "  Step ID: 0f467857-d71e-434e-9734-115815912604\n",
      "Measurement name: voltage_response\n",
      "  Data type: type.googleapis.com/ni.protobuf.types.DoubleAnalogWaveform\n",
      "  Step ID: 28497136-75e7-4997-8b3c-e3bc8e83321d\n",
      "Measurement name: voltage_response\n",
      "  Data type: type.googleapis.com/ni.protobuf.types.DoubleAnalogWaveform\n",
      "  Step ID: e52bf216-5c1b-4bd7-b688-82393e1c71f5\n",
      "Measurement name: voltage_response\n",
      "  Data type: type.googleapis.com/ni.protobuf.types.DoubleAnalogWaveform\n",
      "  Step ID: 28497136-75e7-4997-8b3c-e3bc8e83321d\n",
      "Measurement name: voltage_response\n",
      "  Data type: type.googleapis.com/ni.protobuf.types.DoubleAnalogWaveform\n",
      "  Step ID: 0f467857-d71e-434e-9734-115815912604\n",
      "Measurement name: voltage_response\n",
      "  Data type: type.googleapis.com/ni.protobuf.types.DoubleAnalogWaveform\n",
      "  Step ID: e52bf216-5c1b-4bd7-b688-82393e1c71f5\n",
      "Measurement name: voltage_response\n",
      "  Data type: type.googleapis.com/ni.protobuf.types.DoubleAnalogWaveform\n",
      "  Step ID: e52bf216-5c1b-4bd7-b688-82393e1c71f5\n",
      "Measurement name: voltage_response\n",
      "  Data type: type.googleapis.com/ni.protobuf.types.DoubleAnalogWaveform\n",
      "  Step ID: e52bf216-5c1b-4bd7-b688-82393e1c71f5\n",
      "Measurement name: voltage_response\n",
      "  Data type: type.googleapis.com/ni.protobuf.types.DoubleAnalogWaveform\n",
      "  Step ID: b8a46877-dd9e-4cb1-8044-ffe825a33ee4\n"
     ]
    }
   ],
   "source": [
    "from ni.datastore import data\n",
    "from ni.datastore.data import DataStoreClient\n",
    "\n",
    "data_store_client = DataStoreClient()\n",
    "\n",
    "# Query for all published measurements (odata_query = \"\")\n",
    "published_measurements = data_store_client.query_measurements(\"\")\n",
    "\n",
    "# published_measurements is an Iterable[PublishedMeasurement]\n",
    "for published_measurement in published_measurements:\n",
    "    print(f\"Measurement name: {published_measurement.measurement_name}\")\n",
    "    print(f\"  Data type: {published_measurement.data_type}\")\n",
    "    print(f\"  Step ID: {published_measurement.step_id}\")"
   ]
  },
  {
   "cell_type": "markdown",
   "id": "841e0625",
   "metadata": {},
   "source": [
    "### Query All Steps\n",
    "\n",
    "This queries all steps in the data store and prints their name and associated test result ID."
   ]
  },
  {
   "cell_type": "code",
   "execution_count": null,
   "id": "93ab8232",
   "metadata": {},
   "outputs": [
    {
     "name": "stdout",
     "output_type": "stream",
     "text": [
      "Step name: Initial step\n",
      "  Test result ID: bfb516fb-a7ae-4250-87b6-8df4140632d0\n",
      "Step name: Initial step\n",
      "  Test result ID: bfb516fb-a7ae-4250-87b6-8df4140632d0\n",
      "Step name: Initial step\n",
      "  Test result ID: bfb516fb-a7ae-4250-87b6-8df4140632d0\n",
      "Step name: Initial step\n",
      "  Test result ID: bfb516fb-a7ae-4250-87b6-8df4140632d0\n",
      "Step name: Initial step\n",
      "  Test result ID: bfb516fb-a7ae-4250-87b6-8df4140632d0\n"
     ]
    }
   ],
   "source": [
    "# Query for all steps (odata_query = \"\")\n",
    "steps = data_store_client.query_steps(\"\")\n",
    "\n",
    "# data is an Iterable[Step]\n",
    "for step in steps:\n",
    "    print(f\"Step name: {step.step_name}\")\n",
    "    print(f\"  Test result ID: {step.test_result_id}\")\n"
   ]
  },
  {
   "cell_type": "markdown",
   "id": "4d6bb773",
   "metadata": {},
   "source": [
    "### Query All Test Results\n",
    "\n",
    "This queries all test reults in the data store and shows the associated steps."
   ]
  },
  {
   "cell_type": "code",
   "execution_count": null,
   "id": "46788526",
   "metadata": {},
   "outputs": [],
   "source": [
    "# Query for all steps (odata_query = \"\")\n",
    "steps = data_store_client.quer(\"\")\n",
    "\n",
    "# data is an Iterable[Step]\n",
    "for step in steps:\n",
    "    print(f\"Step name: {step.step_name}\")\n",
    "    print(f\"  Test result ID: {step.test_result_id}\")"
   ]
  }
 ],
 "metadata": {
  "kernelspec": {
   "display_name": "ni-datastore-py3.11",
   "language": "python",
   "name": "python3"
  },
  "language_info": {
   "codemirror_mode": {
    "name": "ipython",
    "version": 3
   },
   "file_extension": ".py",
   "mimetype": "text/x-python",
   "name": "python",
   "nbconvert_exporter": "python",
   "pygments_lexer": "ipython3",
   "version": "3.11.9"
  }
 },
 "nbformat": 4,
 "nbformat_minor": 5
}
