{
  "cells": [
    {
      "cell_type": "markdown",
      "id": "0c023578",
      "metadata": {},
      "source": [
        "## Create Multiple Hardware Schemas\n",
        "\n",
        "When a measurement is associated with multiple hardware entities, it may be desirable for each type of hardware to have its own metadata schema.  This demonstrates how to create multiple hardware entities with different schemas."
      ]
    },
    {
      "cell_type": "code",
      "execution_count": null,
      "id": "8245e640",
      "metadata": {},
      "outputs": [],
      "source": [
        "from ni.datastore import Client\n",
        "\n",
        "client = Client()\n",
        "# Register schemas\n",
        "cable_schema_id = client.register_schema(\"cable_schema.toml\")\n",
        "socket_schema_id = client.register_schema(\"socket_schema.toml\")\n",
        "scope_schema_id = client.register_schema(\"scope_schema.toml\")"
      ]
    },
    {
      "cell_type": "markdown",
      "id": "936b1eca",
      "metadata": {},
      "source": [
        "## Create the Hardware Objects with their Custom Metadata\n",
        "\n",
        "Now that the schemas are registered, we can create Hardware objects that specify custom metadata to meet the requirements of the registered schemas.  Each piece of hardware can use it's own schema."
      ]
    },
    {
      "cell_type": "code",
      "execution_count": null,
      "id": "13d59ad8",
      "metadata": {},
      "outputs": [],
      "source": [
        "from ni.datastore import HardwareItem\n",
        "\n",
        "cable = HardwareItem(\n",
        "    manufacturer=\"NI\",\n",
        "    model=\"cable\",\n",
        "    serial_number=\"7u2349\",\n",
        "    schema_id=cable_schema_id,\n",
        ")\n",
        "cable.extensions[\"cable_length\"] = \"1.5\"\n",
        "cable.extensions[\"manufacture_date\"] = \"2023-01-01\"\n",
        "\n",
        "socket = HardwareItem(\n",
        "    manufacturer=\"NI\",\n",
        "    model=\"socket\",\n",
        "    schema_id=socket_schema_id,\n",
        ")\n",
        "socket.extensions[\"socket_number\"] = \"3\"\n",
        "socket.extensions[\"manufacture_date\"] = \"2024-05-01\"\n",
        "\n",
        "scope = HardwareItem(\n",
        "    manufacturer=\"NI\",\n",
        "    model=\"PXIe-5171\",\n",
        "    serial_number=\"1933B4E\",\n",
        "    schema_id=scope_schema_id,\n",
        ")\n",
        "scope.extensions[\"bandwidth\"] = \"250 MHz\"\n",
        "scope.extensions[\"manufacture_date\"] = \"2024-11-03\""
      ]
    },
    {
      "cell_type": "markdown",
      "id": "3fac7e79",
      "metadata": {},
      "source": [
        "## Create a Schema for the Test Result (optional)\n",
        "\n",
        "If you specify a schema for the test result, it will ensure that all the hardware custom metadata is a superset of whatever metadata is specified in the session schema.  This allows the author to ensure all hardware has some consistent attributes.\n"
      ]
    },
    {
      "cell_type": "code",
      "execution_count": null,
      "id": "b40414fa",
      "metadata": {},
      "outputs": [],
      "source": [
        "test_result_schema_id = client.register_schema(\"test_result_schema.toml\")"
      ]
    },
    {
      "cell_type": "markdown",
      "id": "3a5be765",
      "metadata": {},
      "source": [
        "## Publish a Measurement with the Hardware\n",
        "\n",
        "Now that all the schemas have been registered and the hardware objects have been created, we can publish our data with the associated hardware."
      ]
    },
    {
      "cell_type": "code",
      "execution_count": null,
      "id": "fc2373bd",
      "metadata": {},
      "outputs": [],
      "source": [
        "from datetime import timezone\n",
        "import hightime as ht\n",
        "from ni.datastore import TestResult, Step\n",
        "from nitypes.waveform import AnalogWaveform\n",
        "from nitypes.waveform import Timing\n",
        "import numpy as np\n",
        "\n",
        "cable_id = client.create_hardware_item(hardware_item=cable)\n",
        "socket_id = client.create_hardware_item(hardware_item=socket)\n",
        "scope_id = client.create_hardware_item(hardware_item=scope)\n",
        "\n",
        "test_result_id = client.create_test_result(\n",
        "    test_result=TestResult(\n",
        "        test_result_name=\"scope measurements\",\n",
        "        hardware_item_ids=[cable_id, socket_id, scope_id],\n",
        "        schema_id=test_result_schema_id\n",
        "    )\n",
        ")\n",
        "\n",
        "waveform = AnalogWaveform(\n",
        "    sample_count=3,\n",
        "    raw_data=np.array([1.0, 2.0, 3.0]),\n",
        "    timing=Timing.create_with_regular_interval(\n",
        "        ht.timedelta(seconds=1e-3),\n",
        "        ht.datetime.now(timezone.utc)\n",
        "    )\n",
        ")\n",
        "\n",
        "step = Step(step_name=\"Initial step\", test_result_id=test_result_id)\n",
        "step_id = client.create_step(step)\n",
        "published_measurement = client.publish_measurement(\n",
        "    measurement_name=\"scope reading\",\n",
        "    value=waveform,\n",
        "    step_id=step_id,\n",
        ")"
      ]
    },
    {
      "cell_type": "markdown",
      "id": "cf634ecb",
      "metadata": {},
      "source": [
        "# Query for the Published Data\n",
        "\n",
        "Now that we've published some data, we can use our OData query API to find it"
      ]
    },
    {
      "cell_type": "code",
      "execution_count": null,
      "id": "e746e6ac",
      "metadata": {},
      "outputs": [],
      "source": [
        "published_measurements = client.query_measurements(\"$filter=name eq 'scope reading'\")\n",
        "found_measurement = next(iter(published_measurements), None)\n",
        "if found_measurement is not None:\n",
        "    waveform = client.read_data(found_measurement, expected_type=AnalogWaveform)\n",
        "    print(f\"published data is: {waveform.raw_data}\")"
      ]
    }
  ],
  "metadata": {
    "kernelspec": {
      "display_name": "ni-datastore-py3.11",
      "language": "python",
      "name": "python3"
    },
    "language_info": {
      "codemirror_mode": {
        "name": "ipython",
        "version": 3
      },
      "file_extension": ".py",
      "mimetype": "text/x-python",
      "name": "python",
      "nbconvert_exporter": "python",
      "pygments_lexer": "ipython3",
      "version": "3.11.9"
    }
  },
  "nbformat": 4,
  "nbformat_minor": 5
}
