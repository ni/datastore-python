{
 "cells": [
  {
   "cell_type": "markdown",
   "id": "80459a41",
   "metadata": {},
   "source": [
    "## Create the metadata to alias\n",
    "\n",
    "In this example, we create two Operators that we will subsequently alias."
   ]
  },
  {
   "cell_type": "code",
   "execution_count": null,
   "id": "4a47d341",
   "metadata": {},
   "outputs": [],
   "source": [
    "from ni.datastore import Client\n",
    "from ni.measurements.metadata.v1.metadata_store_pb2 import Operator\n",
    "\n",
    "client = Client()\n",
    "operatorOne = Operator(operator_name=\"Jane Doe\")\n",
    "operatorTwo = Operator(operator_name=\"John Smith\")\n",
    "\n",
    "client.create_operator(operatorOne)\n",
    "client.create_operator(operatorTwo)"
   ]
  },
  {
   "cell_type": "markdown",
   "id": "87f1c133",
   "metadata": {},
   "source": [
    "## Create aliases for the desired metadata\n",
    "\n",
    "Note: The metadata being aliased must have already been created prior to creating the alias."
   ]
  },
  {
   "cell_type": "code",
   "execution_count": null,
   "id": "cf3e749f",
   "metadata": {},
   "outputs": [],
   "source": [
    "client.create_alias(\"primary_operator\", operatorOne)\n",
    "client.create_alias(\"secondary_operator\", operatorTwo)\n",
    "\n",
    "print(\"Aliases created successfully.\")"
   ]
  },
  {
   "cell_type": "markdown",
   "id": "45b02d4d",
   "metadata": {},
   "source": [
    "## Reference the alias\n",
    "\n",
    "You can reference the alias in place of the metadata ID when creating further metadata or publishing."
   ]
  },
  {
   "cell_type": "code",
   "execution_count": null,
   "id": "bc2f25dc",
   "metadata": {},
   "outputs": [],
   "source": [
    "from ni.datastore.data import TestResult\n",
    "\n",
    "test_result = TestResult(\n",
    "    test_result_name=\"Test Result with Operator Alias\",\n",
    "    operator_id=\"secondary_operator\"\n",
    ")\n",
    "\n",
    "test_result_id = client.create_test_result(test_result)\n",
    "\n",
    "print(\"The test results was created successfully using an alias to reference an operator.\")\n"
   ]
  },
  {
   "cell_type": "markdown",
   "id": "be0577f7",
   "metadata": {},
   "source": [
    "## Verify expected alias usage"
   ]
  },
  {
   "cell_type": "code",
   "execution_count": null,
   "id": "ae1752d0",
   "metadata": {},
   "outputs": [],
   "source": [
    "# Retrieve the session and verify which operator was associated with it\n",
    "retrieved_session = client.get_test_result(test_result_id)\n",
    "retrieved_operator_id = retrieved_session.operator_id\n",
    "operator_details = client.get_operator(retrieved_operator_id)\n",
    "\n",
    "print(f\"The name of the operator for the session: {operator_details.operator_name}\")"
   ]
  },
  {
   "cell_type": "markdown",
   "id": "bb01d26b",
   "metadata": {},
   "source": [
    "## Get alias\n",
    "\n",
    "Look up the target information of the alias (i.e. what the alias is an alias for)"
   ]
  },
  {
   "cell_type": "code",
   "execution_count": null,
   "id": "63161fc3",
   "metadata": {},
   "outputs": [],
   "source": [
    "alias = client.get_alias(\"primary_operator\")\n",
    "\n",
    "print(alias)"
   ]
  },
  {
   "cell_type": "markdown",
   "id": "b62e51cc",
   "metadata": {},
   "source": [
    "## Query all aliases"
   ]
  },
  {
   "cell_type": "code",
   "execution_count": null,
   "id": "d98697f8",
   "metadata": {},
   "outputs": [],
   "source": [
    "aliases = client.query_aliases(\"\")\n",
    "for alias in aliases:\n",
    "    print(alias)"
   ]
  },
  {
   "cell_type": "markdown",
   "id": "80f5ed9d",
   "metadata": {},
   "source": [
    "## Query aliases with filter"
   ]
  },
  {
   "cell_type": "code",
   "execution_count": null,
   "id": "d9087da6",
   "metadata": {},
   "outputs": [],
   "source": [
    "aliases = client.query_aliases(\"$filter=name eq 'primary_operator'\")\n",
    "for alias in aliases:\n",
    "    print(alias)"
   ]
  },
  {
   "cell_type": "markdown",
   "id": "c0f54d82",
   "metadata": {},
   "source": [
    "## Delete alias\n",
    "\n",
    "Deletes an existing alias on the system. This does not affect the underlying target/metadata to which the alias refers."
   ]
  },
  {
   "cell_type": "code",
   "execution_count": null,
   "id": "1eadddff",
   "metadata": {},
   "outputs": [],
   "source": [
    "deleted = client.delete_alias(\"primary_operator\")\n",
    "\n",
    "print(f\"Success of deleting 'primary_operator': {deleted}\\n\")\n",
    "\n",
    "## Query the aliases again to confirm the alias has been removed\n",
    "aliases = client.query_aliases(\"\")\n",
    "for alias in aliases:\n",
    "    print(alias)\n",
    "\n",
    "# Try to delete the alias again. This should not succeed since the alias has already been removed.\n",
    "deleted = client.delete_alias(\"primary_operator\")\n",
    "print(f\"Success of deleting already-removed 'primary_operator': {deleted}\")"
   ]
  }
 ],
 "metadata": {
  "kernelspec": {
   "display_name": "ni-datastore-py3.11",
   "language": "python",
   "name": "python3"
  },
  "language_info": {
   "codemirror_mode": {
    "name": "ipython",
    "version": 3
   },
   "file_extension": ".py",
   "mimetype": "text/x-python",
   "name": "python",
   "nbconvert_exporter": "python",
   "pygments_lexer": "ipython3",
   "version": "3.11.2"
  }
 },
 "nbformat": 4,
 "nbformat_minor": 5
}
