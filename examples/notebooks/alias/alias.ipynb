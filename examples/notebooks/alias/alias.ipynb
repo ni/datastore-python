{
 "cells": [
  {
   "cell_type": "markdown",
   "id": "80459a41",
   "metadata": {},
   "source": [
    "## Create the metadata to alias\n",
    "\n",
    "In this example, we create two Operators that we will subsequently alias."
   ]
  },
  {
   "cell_type": "code",
   "execution_count": 4,
   "id": "4a47d341",
   "metadata": {},
   "outputs": [
    {
     "data": {
      "text/plain": [
       "'73326cec-db0b-4f84-9d48-24005fa04895'"
      ]
     },
     "execution_count": 4,
     "metadata": {},
     "output_type": "execute_result"
    }
   ],
   "source": [
    "from ni.datastore.client import Client\n",
    "from ni.measurements.metadata.v1.metadata_store_pb2 import Operator\n",
    "\n",
    "client = Client()\n",
    "operatorOne = Operator(operator_name=\"Jane Doe\")\n",
    "operatorTwo = Operator(operator_name=\"John Smith\")\n",
    "\n",
    "client.create_operator(operatorOne)\n",
    "client.create_operator(operatorTwo)"
   ]
  },
  {
   "cell_type": "markdown",
   "id": "87f1c133",
   "metadata": {},
   "source": [
    "## Register aliases for the desired metadata\n",
    "\n",
    "Note: The metadata being aliased must have already been created prior to registering the alias."
   ]
  },
  {
   "cell_type": "code",
   "execution_count": 5,
   "id": "cf3e749f",
   "metadata": {},
   "outputs": [
    {
     "name": "stdout",
     "output_type": "stream",
     "text": [
      "Aliases registered successfully.\n"
     ]
    }
   ],
   "source": [
    "client.create_alias(\"primary_operator\", operatorOne)\n",
    "client.create_alias(\"secondary_operator\", operatorTwo)\n",
    "\n",
    "print(\"Aliases registered successfully.\")"
   ]
  },
  {
   "cell_type": "markdown",
   "id": "45b02d4d",
   "metadata": {},
   "source": [
    "## Reference the alias\n",
    "\n",
    "You can reference the alias in place of the metadata ID when creating further metadata or publishing."
   ]
  },
  {
   "cell_type": "code",
   "execution_count": 9,
   "id": "bc2f25dc",
   "metadata": {},
   "outputs": [
    {
     "name": "stdout",
     "output_type": "stream",
     "text": [
      "The test results was created successfully using an alias to reference an operator.\n"
     ]
    }
   ],
   "source": [
    "from ni.measurements.data.v1.data_store_pb2 import TestResult\n",
    "\n",
    "test_result = TestResult(\n",
    "    test_result_name=\"Test Result with Operator Alias\",\n",
    "    operator_id=\"secondary_operator\"\n",
    ")\n",
    "\n",
    "test_result_id = client.create_test_result(test_result)\n",
    "\n",
    "print(\"The test results was created successfully using an alias to reference an operator.\")\n"
   ]
  },
  {
   "cell_type": "markdown",
   "id": "be0577f7",
   "metadata": {},
   "source": [
    "## Verify expected alias usage"
   ]
  },
  {
   "cell_type": "code",
   "execution_count": 10,
   "id": "ae1752d0",
   "metadata": {},
   "outputs": [
    {
     "name": "stdout",
     "output_type": "stream",
     "text": [
      "The name of the operator for the session: John Smith\n"
     ]
    }
   ],
   "source": [
    "# Retrieve the session and verify which operator was associated with it\n",
    "retrieved_session = client.get_test_result(test_result_id)\n",
    "retrieved_operator_id = retrieved_session.operator_id\n",
    "operator_details = client.get_operator(retrieved_operator_id)\n",
    "\n",
    "print(f\"The name of the operator for the session: {operator_details.operator_name}\")"
   ]
  },
  {
   "cell_type": "markdown",
   "id": "bb01d26b",
   "metadata": {},
   "source": [
    "## Resolve alias\n",
    "\n",
    "Look up the target information of the alias (i.e. what the alias is an alias for)"
   ]
  },
  {
   "cell_type": "code",
   "execution_count": 11,
   "id": "63161fc3",
   "metadata": {},
   "outputs": [
    {
     "name": "stdout",
     "output_type": "stream",
     "text": [
      "alias_name: \"primary_operator\"\n",
      "target_type: ALIAS_TARGET_TYPE_OPERATOR\n",
      "target_id: \"2d7e559f-0614-47db-aa59-622d9c0d5af4\"\n",
      "\n"
     ]
    }
   ],
   "source": [
    "alias = client.get_alias(\"primary_operator\")\n",
    "\n",
    "print(alias)"
   ]
  },
  {
   "cell_type": "markdown",
   "id": "b62e51cc",
   "metadata": {},
   "source": [
    "## Query all aliases"
   ]
  },
  {
   "cell_type": "code",
   "execution_count": 12,
   "id": "d98697f8",
   "metadata": {},
   "outputs": [
    {
     "name": "stdout",
     "output_type": "stream",
     "text": [
      "alias_name: \"primary_operator\"\n",
      "target_type: ALIAS_TARGET_TYPE_OPERATOR\n",
      "target_id: \"2d7e559f-0614-47db-aa59-622d9c0d5af4\"\n",
      "\n",
      "alias_name: \"secondary_operator\"\n",
      "target_type: ALIAS_TARGET_TYPE_OPERATOR\n",
      "target_id: \"73326cec-db0b-4f84-9d48-24005fa04895\"\n",
      "\n"
     ]
    }
   ],
   "source": [
    "aliases = client.query_aliases(\"\")\n",
    "for alias in aliases:\n",
    "    print(alias)"
   ]
  },
  {
   "cell_type": "markdown",
   "id": "80f5ed9d",
   "metadata": {},
   "source": [
    "## Query aliases with filter"
   ]
  },
  {
   "cell_type": "code",
   "execution_count": 13,
   "id": "d9087da6",
   "metadata": {},
   "outputs": [
    {
     "name": "stdout",
     "output_type": "stream",
     "text": [
      "alias_name: \"primary_operator\"\n",
      "target_type: ALIAS_TARGET_TYPE_OPERATOR\n",
      "target_id: \"2d7e559f-0614-47db-aa59-622d9c0d5af4\"\n",
      "\n"
     ]
    }
   ],
   "source": [
    "aliases = client.query_aliases(\"$filter=name eq 'primary_operator'\")\n",
    "for alias in aliases:\n",
    "    print(alias)"
   ]
  },
  {
   "cell_type": "markdown",
   "id": "c0f54d82",
   "metadata": {},
   "source": [
    "## Unregister alias\n",
    "\n",
    "Unregisters an existing alias on the system. This does not affect the underlying target/metadata to which the alias refers."
   ]
  },
  {
   "cell_type": "code",
   "execution_count": 14,
   "id": "1eadddff",
   "metadata": {},
   "outputs": [
    {
     "name": "stdout",
     "output_type": "stream",
     "text": [
      "Success of unregistering 'primary_operator': True\n",
      "\n",
      "alias_name: \"secondary_operator\"\n",
      "target_type: ALIAS_TARGET_TYPE_OPERATOR\n",
      "target_id: \"73326cec-db0b-4f84-9d48-24005fa04895\"\n",
      "\n",
      "Success of unregistering already-removed 'primary_operator': False\n"
     ]
    }
   ],
   "source": [
    "unregistered = client.delete_alias(\"primary_operator\")\n",
    "\n",
    "print(f\"Success of unregistering 'primary_operator': {unregistered}\\n\")\n",
    "\n",
    "## Query the aliases again to confirm the alias has been removed\n",
    "aliases = client.query_aliases(\"\")\n",
    "for alias in aliases:\n",
    "    print(alias)\n",
    "\n",
    "# Try to unregister the alias again. This should not succeed since the alias has already been removed.\n",
    "unregistered = client.delete_alias(\"primary_operator\")\n",
    "print(f\"Success of unregistering already-removed 'primary_operator': {unregistered}\")"
   ]
  }
 ],
 "metadata": {
  "kernelspec": {
   "display_name": "ni-datastore-py3.11",
   "language": "python",
   "name": "python3"
  },
  "language_info": {
   "codemirror_mode": {
    "name": "ipython",
    "version": 3
   },
   "file_extension": ".py",
   "mimetype": "text/x-python",
   "name": "python",
   "nbconvert_exporter": "python",
   "pygments_lexer": "ipython3",
   "version": "3.11.9"
  }
 },
 "nbformat": 4,
 "nbformat_minor": 5
}
