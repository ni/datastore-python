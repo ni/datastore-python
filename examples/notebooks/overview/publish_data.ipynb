{
 "cells": [
  {
   "cell_type": "markdown",
   "id": "146b50e3",
   "metadata": {},
   "source": [
    "## Register a metadata schema\n",
    "\n",
    "The registration of the metadata schema is usually done by the administrator of the system. The metadata schema is defined in a JSON file, which is then registered in the system. This registration is not usually done as part of running tests or capturing data"
   ]
  },
  {
   "cell_type": "code",
   "execution_count": null,
   "id": "f236135d",
   "metadata": {},
   "outputs": [],
   "source": [
    "import sys\n",
    "print(sys.executable)\n",
    "!pip list\n",
    "\n",
    "# from ni.measurements.metadata.v1.client import MetadataClient\n",
    "\n",
    "# with MetadataClient() as client:\n",
    "    # schema_id = client.register_schema(\"sample_schema.json\")\n",
    "    # print(f\"registered schema id: {schema_id}\")"
   ]
  },
  {
   "cell_type": "code",
   "execution_count": null,
   "id": "dd5e673b",
   "metadata": {},
   "outputs": [],
   "source": [
    "import sys\n",
    "print(sys.executable)"
   ]
  },
  {
   "cell_type": "markdown",
   "id": "f1f1b11c",
   "metadata": {},
   "source": [
    "## Create the session metadata\n",
    "\n",
    "Now that a schema has been registered we can create our metadata objects with the expected metadata.  Note, however, the operator's 'badge_number' - which is required in the schema - has not been specified."
   ]
  },
  {
   "cell_type": "code",
   "execution_count": null,
   "id": "acce3488",
   "metadata": {},
   "outputs": [],
   "source": [
    "from ni.measurements.data.v1.data import Session\n",
    "from ni.measurements.metadata.v1.metadata import Operator, TestStation, Software\n",
    "\n",
    "operator = Operator(operator_name=\"Nick Beer\")\n",
    "test_station = TestStation(test_station_name=\"TestStation_12\", attributes={\"location\": \"USA\"})\n",
    "software = Software(product=\"Windows\", version=\"10.0.19044\", attributes={\"license\": \"LIC_enterprise\"})\n",
    "session = Session(\n",
    "    session_name=\"sample data publish session\",\n",
    "    operator=operator,\n",
    "    test_station=test_station,\n",
    "    schema_id=schema_id,\n",
    "    software=[software],\n",
    "    attributes={\"session_file_path\": \"C:\\\\my_test_description.xlsx\"}\n",
    ")"
   ]
  },
  {
   "cell_type": "markdown",
   "id": "d6f56576",
   "metadata": {},
   "source": [
    "## Create the session object\n",
    "\n",
    "Now that we have the session metadata, we can create the session object. Note below that schema validation can fail if your metadata does not match what's specified in the schema."
   ]
  },
  {
   "cell_type": "code",
   "execution_count": null,
   "id": "406d8b27",
   "metadata": {},
   "outputs": [],
   "source": [
    "import grpc\n",
    "from ni.measurements.data.v1.client import DataStoreClient\n",
    "\n",
    "with DataStoreClient() as client:\n",
    "    try:\n",
    "        session_id = client.create_session(session)\n",
    "    except grpc.RpcError as e:\n",
    "        print(\"Failed to create session:\")\n",
    "        print(f\"  {e.details()}\")\n",
    "\n",
    "    # add the required attribute to the operator object\n",
    "    operator.attributes[\"badge_number\"] = \"emp-128256\"\n",
    "    # change the station location to be invalid\n",
    "    test_station.attributes[\"location\"] = \"Texas\"\n",
    "\n",
    "    try:\n",
    "        session_id = client.create_session(session)\n",
    "    except grpc.RpcError as e:\n",
    "        print(\"Failed to create session:\")\n",
    "        print(f\"  {e.details()}\")\n",
    "\n",
    "    # fix the station location\n",
    "    test_station.attributes[\"location\"] = \"USA\"\n",
    "    # change the station name to be invalid (not matching the pattern defined in the schema)\n",
    "    test_station.test_station_name = \"TS_12\"\n",
    "    try:\n",
    "        session_id = client.create_session(session)\n",
    "    except grpc.RpcError as e:\n",
    "        print(\"Failed to create session:\")\n",
    "        print(f\"  {e.details()}\")\n",
    "\n",
    "    # fix the station name\n",
    "    test_station.test_station_name = \"TestStation_12\"\n",
    "    # change the software license to be invalid (not matching the pattern defined in the schema)\n",
    "    software.attributes[\"license\"] = \"enterprise_LIC\"\n",
    "\n",
    "    try:\n",
    "        session_id = client.create_session(session)\n",
    "    except grpc.RpcError as e:\n",
    "        print(\"Failed to create session:\")\n",
    "        print(f\"  {e.details()}\")\n",
    "\n",
    "    # fix the software license to create the session\n",
    "    software.attributes[\"license\"] = \"LIC_enterprise\"\n",
    "    session_id = client.create_session(session)\n",
    "    print(f\"created session id: {session_id}\")"
   ]
  },
  {
   "cell_type": "markdown",
   "id": "00e15a92",
   "metadata": {},
   "source": [
    "## Publish the data\n",
    "\n",
    "Now that we have a valid session and schema, we can publish our data"
   ]
  },
  {
   "cell_type": "code",
   "execution_count": null,
   "id": "9cd1475d",
   "metadata": {},
   "outputs": [],
   "source": [
    "from datetime import datetime, timedelta, timezone\n",
    "from ni.measurements.data.v1.client import DataStoreClient\n",
    "from ni.measurements.data.v1.data import Measurement\n",
    "from nitypes.waveform import AnalogWaveform\n",
    "from nitypes.waveform import Timing\n",
    "import numpy as np\n",
    "\n",
    "with DataStoreClient() as client:\n",
    "    name = \"data publish sample\"\n",
    "    waveform = AnalogWaveform(\n",
    "        sample_count=3,\n",
    "        raw_data=np.array([1.0, 2.0, 3.0]),\n",
    "        timing=Timing.create_with_regular_interval(\n",
    "            timedelta(seconds=1e-3),\n",
    "            datetime.now(timezone.utc)\n",
    "        )\n",
    "    )\n",
    "    data = client.publish_double_analog_waveform(\n",
    "        measurement=Measurement(name, session=session_id),\n",
    "        name=name,\n",
    "        description=\"An example of publishing data\",\n",
    "        waveform=waveform,\n",
    "    )\n",
    "\n",
    "    print(f\"The published data id is {data.metadata().id}\")"
   ]
  },
  {
   "cell_type": "markdown",
   "id": "829f2743",
   "metadata": {},
   "source": [
    "## Query the data\n",
    "\n",
    "Now that we've got data in the database, we can query for it using our OData query api."
   ]
  },
  {
   "cell_type": "code",
   "execution_count": null,
   "id": "5e912c77",
   "metadata": {},
   "outputs": [],
   "source": [
    "from ni.measurements.data.v1.client import DataStoreClient\n",
    "from ni.measurements.metadata.v1.client import MetadataClient\n",
    "\n",
    "with DataStoreClient() as client:\n",
    "    matches = client.query_data(odata_query=f\"$filter=id eq {data.metadata().id}\")\n",
    "    data = matches[0]\n",
    "\n",
    "    with MetadataClient() as metadata_client:\n",
    "        operator = metadata_client.get_operator(data.metadata().operator_id)\n",
    "        # badge_number is a custom attribute in the schema\n",
    "        # It's not a standard attribute of the operator object\n",
    "        badge_number = operator.badge_number\n",
    "        print(f\"operator {operator.operator_name}'s badge number is: {badge_number}\")\n",
    "\n",
    "    waveform = data.ValueAsDoubleAnalogWaveform()\n",
    "    print(f\"published data is: {waveform.raw_data}\")"
   ]
  }
 ],
 "metadata": {
  "kernelspec": {
   "display_name": "Python 3",
   "language": "python",
   "name": "python3"
  },
  "language_info": {
   "codemirror_mode": {
    "name": "ipython",
    "version": 3
   },
   "file_extension": ".py",
   "mimetype": "text/x-python",
   "name": "python",
   "nbconvert_exporter": "python",
   "pygments_lexer": "ipython3",
   "version": "3.11.9"
  }
 },
 "nbformat": 4,
 "nbformat_minor": 5
}
