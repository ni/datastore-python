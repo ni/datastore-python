{
 "cells": [
  {
   "cell_type": "markdown",
   "id": "146b50e3",
   "metadata": {},
   "source": [
    "## Register a metadata schema\n",
    "\n",
    "The registration of the metadata schema is usually done by the administrator of the system. The metadata schema is defined in a JSON file, which is then registered in the system. This registration is not usually done as part of running tests or capturing data"
   ]
  },
  {
   "cell_type": "code",
   "execution_count": null,
   "id": "f236135d",
   "metadata": {},
   "outputs": [],
   "source": [
    "from ni.datastore import Client\n",
    "\n",
    "client = Client()\n",
    "with open(\"sample_schema.json\", \"r\", encoding=\"utf-8\") as f:\n",
    "    contents = f.read()\n",
    "schema_id = client.register_schema(contents)\n",
    "print(f\"registered schema id: {schema_id}\")"
   ]
  },
  {
   "cell_type": "markdown",
   "id": "f1f1b11c",
   "metadata": {},
   "source": [
    "## Create the test result metadata\n",
    "\n",
    "Now that a schema has been registered we can create our metadata objects with the expected metadata.  Note, however, the creation of each metadata object must include the required values from the schema."
   ]
  },
  {
   "cell_type": "code",
   "execution_count": null,
   "id": "acce3488",
   "metadata": {},
   "outputs": [],
   "source": [
    "import grpc\n",
    "from ni.datastore import TestResult\n",
    "from ni.measurements.metadata.v1.metadata_store_pb2 import Operator, TestStation, SoftwareItem, ExtensionValue\n",
    "\n",
    "# Invalid creation of operator - no badge_number provided\n",
    "operator = Operator(operator_name=\"James Bowery\", schema_id=schema_id)\n",
    "try:\n",
    "    operator_id = client.create_operator(operator)\n",
    "except grpc.RpcError as e:\n",
    "    print(\"Failed to create operator:\")\n",
    "    print(f\"  {e.details()}\")\n",
    "\n",
    "# Add the required attribute to the operator object\n",
    "operator.extensions[\"badge_number\"].CopyFrom(ExtensionValue(string_value=\"emp-128256\"))\n",
    "operator_id = client.create_operator(operator)\n",
    "\n",
    "# Invalid creation of test station - location is invalid\n",
    "test_station = TestStation(test_station_name=\"TestStation_12\", schema_id=schema_id)\n",
    "test_station.extensions[\"location\"].CopyFrom(ExtensionValue(string_value=\"Texas\"))\n",
    "try:\n",
    "    test_station_id = client.create_test_station(test_station)\n",
    "except grpc.RpcError as e:\n",
    "    print(\"Failed to create test station:\")\n",
    "    print(f\"  {e.details()}\")\n",
    "\n",
    "# Fix the location\n",
    "test_station.extensions[\"location\"].CopyFrom(ExtensionValue(string_value=\"USA\"))\n",
    "test_station_id = client.create_test_station(test_station)\n",
    "\n",
    "# Invalid creation of software item -  software license is invalid (not matching the pattern defined in the schema)\n",
    "software_item = SoftwareItem(product=\"Windows\", version=\"10.0.19044\", schema_id=schema_id)\n",
    "software_item.extensions[\"license\"].CopyFrom(ExtensionValue(string_value=\"enterprise_LIC\"))\n",
    "try:\n",
    "    software_item_id = client.create_software_item(software_item)\n",
    "except grpc.RpcError as e:\n",
    "    print(\"Failed to create software item:\")\n",
    "    print(f\"  {e.details()}\")\n",
    "\n",
    "# Fix the software license to create the software item\n",
    "software_item.extensions[\"license\"].CopyFrom(ExtensionValue(string_value=\"LIC_enterprise\"))\n",
    "software_item_id = client.create_software_item(software_item)\n",
    "    \n",
    "test_result = TestResult(\n",
    "    test_result_name=\"sample publish test result\",\n",
    "    operator_id=operator_id,\n",
    "    test_station_id=test_station_id,\n",
    "    schema_id=schema_id,\n",
    "    software_item_ids=[software_item_id])\n",
    "test_result.extensions[\"session_file_path\"] = ExtensionValue(string_value=\"C:\\\\my_test_description.xlsx\")\n"
   ]
  },
  {
   "cell_type": "markdown",
   "id": "d6f56576",
   "metadata": {},
   "source": [
    "## Create the test result object\n",
    "\n",
    "Now that we have the test result metadata, we can create the test result object. Note below that schema validation can fail if your metadata does not match what's specified in the schema."
   ]
  },
  {
   "cell_type": "code",
   "execution_count": null,
   "id": "406d8b27",
   "metadata": {},
   "outputs": [],
   "source": [
    "test_result_id = client.create_test_result(test_result)\n",
    "print(f\"created test result id: {test_result_id}\")"
   ]
  },
  {
   "cell_type": "markdown",
   "id": "00e15a92",
   "metadata": {},
   "source": [
    "## Publish the data\n",
    "\n",
    "Now that we have a valid test result and schema, we can publish our data"
   ]
  },
  {
   "cell_type": "code",
   "execution_count": null,
   "id": "9cd1475d",
   "metadata": {},
   "outputs": [],
   "source": [
    "from datetime import timedelta, timezone\n",
    "import hightime as ht\n",
    "from nitypes.waveform import AnalogWaveform\n",
    "from nitypes.waveform import Timing\n",
    "import numpy as np\n",
    "from ni.datastore import Step\n",
    "\n",
    "name = \"data publish sample\"\n",
    "waveform = AnalogWaveform(\n",
    "    sample_count=3,\n",
    "    raw_data=np.array([1.0, 2.0, 3.0]),\n",
    "    timing=Timing.create_with_regular_interval(\n",
    "        timedelta(seconds=1e-3),\n",
    "        ht.datetime.now(timezone.utc)\n",
    "    )\n",
    ")\n",
    "step = Step(step_name=\"Initial step\", test_result_id=test_result_id)\n",
    "step_id = client.create_step(step)\n",
    "published_measurement = client.publish_measurement(\n",
    "    measurement_name=name,\n",
    "    value=waveform,\n",
    "    step_id=step_id,\n",
    ")\n",
    "\n",
    "print(f\"The published measurement id is {published_measurement.published_measurement_id}\")"
   ]
  },
  {
   "cell_type": "markdown",
   "id": "829f2743",
   "metadata": {},
   "source": [
    "## Query the data\n",
    "\n",
    "Now that we've got data in the database, we can query for it using our OData query api."
   ]
  },
  {
   "cell_type": "code",
   "execution_count": null,
   "id": "5e912c77",
   "metadata": {},
   "outputs": [],
   "source": [
    "from nitypes.waveform import AnalogWaveform\n",
    "\n",
    "published_measurements = client.query_measurements(odata_query=f\"$filter=id eq {published_measurement.published_measurement_id}\")\n",
    "found_measurement = next(iter(published_measurements), None)\n",
    "\n",
    "if found_measurement is not None:\n",
    "    test_result = client.get_test_result(found_measurement.test_result_id)\n",
    "    operator = client.get_operator(test_result.operator_id)\n",
    "    # badge_number is a custom attribute in the schema\n",
    "    # It's not a standard attribute of the operator object\n",
    "    badge_number = operator.extensions[\"badge_number\"].string_value\n",
    "    print(f\"operator {operator.operator_name}'s badge number is: {badge_number}\")\n",
    "\n",
    "    waveform = client.read_data(found_measurement, expected_type=AnalogWaveform)\n",
    "    print(f\"published data is: {waveform.raw_data}\")"
   ]
  }
 ],
 "metadata": {
  "kernelspec": {
   "display_name": "ni-datastore-py3.11",
   "language": "python",
   "name": "python3"
  },
  "language_info": {
   "codemirror_mode": {
    "name": "ipython",
    "version": 3
   },
   "file_extension": ".py",
   "mimetype": "text/x-python",
   "name": "python",
   "nbconvert_exporter": "python",
   "pygments_lexer": "ipython3",
   "version": "3.11.2"
  }
 },
 "nbformat": 4,
 "nbformat_minor": 5
}
